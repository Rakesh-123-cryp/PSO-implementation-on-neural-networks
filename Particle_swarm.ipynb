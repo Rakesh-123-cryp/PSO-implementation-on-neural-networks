{
 "cells": [
  {
   "cell_type": "code",
   "execution_count": 128,
   "metadata": {},
   "outputs": [],
   "source": [
    "import numpy as np\n",
    "import pandas as pd\n",
    "import random\n",
    "from sklearn.preprocessing import StandardScaler\n",
    "from sklearn.model_selection import train_test_split\n",
    "import tensorflow as tf\n",
    "from tensorflow.keras.models import Sequential\n",
    "from tensorflow.keras.layers import Dense"
   ]
  },
  {
   "cell_type": "code",
   "execution_count": 129,
   "metadata": {},
   "outputs": [],
   "source": [
    "df = pd.read_csv(\"Bank_Personal_Loan_Modelling.csv\")\n",
    "data.drop([\"ZIP Code\",\"ID\",\"CD Account\",\"Securities Account\",\"Personal Loan\"],axis=1,inplace=True)\n",
    "y = df.pop('Credit Card')\n",
    "x = df\n",
    "x = StandardScaler().fit_transform(x)"
   ]
  },
  {
   "cell_type": "code",
   "execution_count": 130,
   "metadata": {},
   "outputs": [],
   "source": [
    "x_train, x_test, y_train, y_test = train_test_split(x, y, test_size=0.25)"
   ]
  },
  {
   "cell_type": "code",
   "execution_count": 131,
   "metadata": {},
   "outputs": [],
   "source": [
    "from tensorflow.keras.models import Sequential\n",
    "from tensorflow.keras.layers import Dense\n",
    "model = Sequential()\n",
    "model.add(tf.keras.Input(shape=(8,)))\n",
    "model.add(Dense(32,activation='relu'))\n",
    "model.add(Dense(1,activation='sigmoid'))"
   ]
  },
  {
   "cell_type": "code",
   "execution_count": 132,
   "metadata": {},
   "outputs": [],
   "source": [
    "model.compile(loss='binary_crossentropy', optimizer='rmsprop', metrics=['accuracy'])"
   ]
  },
  {
   "cell_type": "code",
   "execution_count": null,
   "metadata": {},
   "outputs": [],
   "source": [
    "# Define the PSO parameters\n",
    "n_particles = 10\n",
    "n_iterations = 50\n",
    "c1 = 0.5\n",
    "c2 = 0.5\n",
    "w = 0.9\n",
    "v_max = 0.5\n"
   ]
  },
  {
   "cell_type": "code",
   "execution_count": null,
   "metadata": {},
   "outputs": [],
   "source": [
    "# Define the fitness function\n",
    "def fitness_function(weights):\n",
    "    # Split the flattened weights into weight matrices\n",
    "    shapes = [w.shape for w in model.get_weights()]\n",
    "    weights = np.split(weights, np.cumsum([np.prod(s) for s in shapes])[:-1])\n",
    "    weights = [w.reshape(s) for w, s in zip(weights, shapes)]\n",
    "\n",
    "    # Set the weights of the model\n",
    "    model.set_weights(weights)\n",
    "\n",
    "    # Evaluate the model\n",
    "    loss, acc = model.evaluate(x=x_test, y=y_test, verbose=0)\n",
    "    return loss"
   ]
  },
  {
   "cell_type": "code",
   "execution_count": null,
   "metadata": {},
   "outputs": [],
   "source": [
    "# Initialize the particles\n",
    "positions = np.random.uniform(-1, 1, size=(n_particles, 417))\n",
    "velocities = np.zeros_like(positions)\n",
    "\n",
    "# Initialize the global best position and fitness\n",
    "global_best_position = None\n",
    "global_best_fitness = np.inf"
   ]
  },
  {
   "cell_type": "code",
   "execution_count": null,
   "metadata": {},
   "outputs": [],
   "source": [
    "# Run the PSO algorithm\n",
    "for i in range(n_iterations):\n",
    "    # Evaluate the fitness of each particle\n",
    "    fitness_values = np.array([fitness_function(p) for p in positions])\n",
    "    \n",
    "    # Update the global best position and fitness\n",
    "    global_best_index = np.argmin(fitness_values)\n",
    "    if fitness_values[global_best_index] < global_best_fitness:\n",
    "        global_best_fitness = fitness_values[global_best_index]\n",
    "        global_best_position = positions[global_best_index]\n",
    "        \n",
    "    # Update the velocities and positions of each particle\n",
    "    for j in range(n_particles):\n",
    "        r1 = np.random.uniform(0, 1)\n",
    "        r2 = np.random.uniform(0, 1)\n",
    "        \n",
    "        local_best_position = positions[j]\n",
    "        local_best_fitness = fitness_values[j]\n",
    "        \n",
    "        velocity = w * velocities[j] + c1 * r1 * (local_best_position - positions[j]) + c2 * r2 * (global_best_position - positions[j])\n",
    "        velocity = np.clip(velocity, -v_max, v_max)\n",
    "        \n",
    "        positions[j] += velocity\n",
    "        positions[j] = np.clip(positions[j], -1, 1)"
   ]
  },
  {
   "cell_type": "code",
   "execution_count": null,
   "metadata": {},
   "outputs": [],
   "source": [
    "model.fit(x=x_train, y=y_train, verbose=1, epochs=50)"
   ]
  },
  {
   "cell_type": "code",
   "execution_count": 134,
   "metadata": {},
   "outputs": [
    {
     "name": "stdout",
     "output_type": "stream",
     "text": [
      "Test accuracy: 97.6800%\n"
     ]
    }
   ],
   "source": [
    "# Accuracy without using PSO\n",
    "accuracy = model.evaluate(x=x_test, y=y_test, verbose=0)[1]\n",
    "print(f\"Test accuracy: {accuracy*100:.4f}%\")"
   ]
  },
  {
   "cell_type": "code",
   "execution_count": null,
   "metadata": {},
   "outputs": [],
   "source": [
    "# Accuracy using PSO\n",
    "accuracy = model.evaluate(x=x_test, y=y_test, verbose=0)[1]\n",
    "print(f\"Test accuracy: {accuracy*100:.4f}%\")"
   ]
  }
 ],
 "metadata": {
  "kernelspec": {
   "display_name": "base",
   "language": "python",
   "name": "python3"
  },
  "language_info": {
   "codemirror_mode": {
    "name": "ipython",
    "version": 3
   },
   "file_extension": ".py",
   "mimetype": "text/x-python",
   "name": "python",
   "nbconvert_exporter": "python",
   "pygments_lexer": "ipython3",
   "version": "3.9.12"
  },
  "orig_nbformat": 4
 },
 "nbformat": 4,
 "nbformat_minor": 2
}
